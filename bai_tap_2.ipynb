{
 "cells": [
  {
   "cell_type": "code",
   "execution_count": 15,
   "metadata": {},
   "outputs": [
    {
     "name": "stdout",
     "output_type": "stream",
     "text": [
      "<class 'float'>\n"
     ]
    }
   ],
   "source": [
    "# viết chương trình con (hàm) sao cho \n",
    "# nhập một giá trị a bất kỳ thể hiện được dạng của biến\n",
    " \n"
   ]
  },
  {
   "cell_type": "code",
   "execution_count": 5,
   "metadata": {},
   "outputs": [
    {
     "data": {
      "text/plain": [
       "('Thanh', 'Hung', 'Son', 'Ken', 'Masu', 'Ben')"
      ]
     },
     "execution_count": 5,
     "metadata": {},
     "output_type": "execute_result"
    }
   ],
   "source": [
    "# viết chương trình con (hàm) sao cho\n",
    "# nhập 2 chuỗi tên cầu thủ sao cho cộng gộp 2 cuoi nay lại làm 1\n"
   ]
  },
  {
   "cell_type": "code",
   "execution_count": 6,
   "metadata": {},
   "outputs": [
    {
     "data": {
      "text/plain": [
       "10"
      ]
     },
     "execution_count": 6,
     "metadata": {},
     "output_type": "execute_result"
    }
   ],
   "source": [
    "# viết chương trình con (hàm) sao cho\n",
    "# nhập 2 số nếu nhập phép cộng thì a+b nếu nhập phép - thì a-b nếu nhập * thì a*b\n",
    "# nếu nhập mũ thì a^b nếu chia lấy phần dư thì a%b\n",
    "# kêt quả ra yêu cầu gán vào một giá trị vd c=ten_ham(...) (gợi ý dùng return)"
   ]
  },
  {
   "cell_type": "code",
   "execution_count": 8,
   "metadata": {},
   "outputs": [
    {
     "name": "stdout",
     "output_type": "stream",
     "text": [
      "15\n"
     ]
    }
   ],
   "source": [
    "# viết chương trình con (hàm) sao cho\n",
    "# sao cho khi nhập một giá trị vào sẽ là tổng các số nhỏ hơn số đó\n",
    "# vd nhap a=5 kq ra kq=1+2+3+4+5\n",
    "# dùng hàm return suất ra kết quả\n",
    "\n"
   ]
  },
  {
   "cell_type": "code",
   "execution_count": 12,
   "metadata": {},
   "outputs": [],
   "source": [
    "# viết chương trình con (hàm) sao cho\n",
    "# nhâp một giá trị vào dạng dict trống\n",
    "\n",
    "\n"
   ]
  },
  {
   "cell_type": "code",
   "execution_count": 13,
   "metadata": {},
   "outputs": [
    {
     "data": {
      "text/plain": [
       "{'Khoa': 1}"
      ]
     },
     "execution_count": 13,
     "metadata": {},
     "output_type": "execute_result"
    }
   ],
   "source": []
  }
 ],
 "metadata": {
  "kernelspec": {
   "display_name": "Python 3.9.13 64-bit (microsoft store)",
   "language": "python",
   "name": "python3"
  },
  "language_info": {
   "codemirror_mode": {
    "name": "ipython",
    "version": 3
   },
   "file_extension": ".py",
   "mimetype": "text/x-python",
   "name": "python",
   "nbconvert_exporter": "python",
   "pygments_lexer": "ipython3",
   "version": "3.9.13"
  },
  "orig_nbformat": 4,
  "vscode": {
   "interpreter": {
    "hash": "f4d2366db963c809d38d0aef610847901410228e8742b9039d8b481f624c5f81"
   }
  }
 },
 "nbformat": 4,
 "nbformat_minor": 2
}
