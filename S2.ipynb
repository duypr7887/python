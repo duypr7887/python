{
 "cells": [
  {
   "cell_type": "code",
   "execution_count": 1,
   "id": "a3d758ac",
   "metadata": {},
   "outputs": [],
   "source": [
    "# List: [1,2,3,'abc',3,1,1]\n",
    "# Tuple: (1,3,5,3)\n",
    "# Set: {1,3,4}\n",
    "# Dictionary: {'key':'value'}"
   ]
  },
  {
   "cell_type": "code",
   "execution_count": 2,
   "id": "037c80f9",
   "metadata": {},
   "outputs": [],
   "source": [
    "d = {'name':'Dat'}"
   ]
  },
  {
   "cell_type": "code",
   "execution_count": 3,
   "id": "bfbe4640",
   "metadata": {},
   "outputs": [],
   "source": [
    "d['name_1'] = 'Dat'"
   ]
  },
  {
   "cell_type": "code",
   "execution_count": 4,
   "id": "5dae2545",
   "metadata": {},
   "outputs": [
    {
     "data": {
      "text/plain": [
       "{'name': 'Dat', 'name_1': 'Dat'}"
      ]
     },
     "execution_count": 4,
     "metadata": {},
     "output_type": "execute_result"
    }
   ],
   "source": [
    "d"
   ]
  },
  {
   "cell_type": "code",
   "execution_count": 5,
   "id": "1e99b95f",
   "metadata": {},
   "outputs": [
    {
     "data": {
      "text/plain": [
       "{'name': 'Nhu', 'name_1': 'Dat'}"
      ]
     },
     "execution_count": 5,
     "metadata": {},
     "output_type": "execute_result"
    }
   ],
   "source": [
    "d['name'] = 'Nhu'\n",
    "d"
   ]
  },
  {
   "cell_type": "code",
   "execution_count": 6,
   "id": "5154dea3",
   "metadata": {},
   "outputs": [],
   "source": [
    "# if <condition>:\n",
    "#     <do something>\n",
    "# (else:\n",
    "#     <do something else>) -> optional\n",
    "# Write a <condition> in Python: <variable> <operator> <variable/value>"
   ]
  },
  {
   "cell_type": "code",
   "execution_count": 7,
   "id": "a91042cd",
   "metadata": {},
   "outputs": [
    {
     "name": "stdout",
     "output_type": "stream",
     "text": [
      "You have graduated\n"
     ]
    }
   ],
   "source": [
    "gpa = 4.5\n",
    "if gpa >= 3.0:\n",
    "    print('You have graduated')\n",
    "else:\n",
    "    print('You have failed')"
   ]
  },
  {
   "cell_type": "code",
   "execution_count": 8,
   "id": "136fbcfb",
   "metadata": {},
   "outputs": [
    {
     "name": "stdout",
     "output_type": "stream",
     "text": [
      "You have failed\n"
     ]
    }
   ],
   "source": [
    "gpa = 2.5\n",
    "if gpa >= 3.0:\n",
    "    print('You have graduated')\n",
    "else:\n",
    "    print('You have failed')"
   ]
  },
  {
   "cell_type": "code",
   "execution_count": 10,
   "id": "7b7afe09",
   "metadata": {},
   "outputs": [
    {
     "name": "stdout",
     "output_type": "stream",
     "text": [
      "You have graduated\n"
     ]
    }
   ],
   "source": [
    "gpa = 3.5\n",
    "if gpa >= 4.0:\n",
    "    print('You have graduated with Honour')\n",
    "elif gpa >= 3.0:\n",
    "    print('You have graduated')\n",
    "else:\n",
    "    print('You have failed')"
   ]
  },
  {
   "cell_type": "code",
   "execution_count": 12,
   "id": "304c97d8",
   "metadata": {},
   "outputs": [],
   "source": [
    "gpa = 2.0\n",
    "if gpa >= 4.0:\n",
    "    print('You have graduated with Honour')\n",
    "elif gpa >= 3.0: # 3 <= gpa < 4\n",
    "    print('You have graduated')\n",
    "elif gpa >= 2.5:\n",
    "    print('...')\n",
    "elif gpa >= 2.0:\n",
    "    b = 10\n",
    "else: # gpa < 3\n",
    "    print('You have failed')"
   ]
  },
  {
   "cell_type": "code",
   "execution_count": 13,
   "id": "19c0f8ce",
   "metadata": {},
   "outputs": [
    {
     "name": "stdout",
     "output_type": "stream",
     "text": [
      "10\n"
     ]
    }
   ],
   "source": [
    "print(b)"
   ]
  },
  {
   "cell_type": "code",
   "execution_count": 14,
   "id": "7dee71fa",
   "metadata": {},
   "outputs": [
    {
     "name": "stdout",
     "output_type": "stream",
     "text": [
      "You have graduated with Honour\n",
      "You have graduated\n"
     ]
    }
   ],
   "source": [
    "gpa = 5\n",
    "if gpa >= 4.0:\n",
    "    print('You have graduated with Honour')\n",
    "if gpa >= 3.0:\n",
    "    print('You have graduated')\n",
    "else:\n",
    "    print('You have failed')"
   ]
  },
  {
   "cell_type": "code",
   "execution_count": 15,
   "id": "9b865683",
   "metadata": {},
   "outputs": [],
   "source": [
    "# For\n",
    "# - Syntax:\n",
    "# for <element> in <iterable>:\n",
    "#      <do something>"
   ]
  },
  {
   "cell_type": "code",
   "execution_count": 21,
   "id": "9b3adec1",
   "metadata": {},
   "outputs": [
    {
     "name": "stdout",
     "output_type": "stream",
     "text": [
      "dog\n",
      "cat\n",
      "dangeroushuman\n",
      "dangeroustiger\n",
      "dangerouslion\n",
      "checked\n"
     ]
    }
   ],
   "source": [
    "animal_list = ['dog','cat','human','tiger','lion']\n",
    "dangerous_list = ['human','tiger','lion']\n",
    "for e in animal_list:\n",
    "    if e in dangerous_list:\n",
    "        print(\"dangerous\" + e)\n",
    "    else:\n",
    "        print(e)\n",
    "print('checked')"
   ]
  },
  {
   "cell_type": "code",
   "execution_count": 22,
   "id": "c28a8bae",
   "metadata": {},
   "outputs": [],
   "source": [
    "# While\n",
    "# - Syntax:\n",
    "# while <condition>:\n",
    "#       <do something>"
   ]
  },
  {
   "cell_type": "code",
   "execution_count": 25,
   "id": "d09c4ce9",
   "metadata": {},
   "outputs": [
    {
     "name": "stdout",
     "output_type": "stream",
     "text": [
      "True\n",
      "10\n",
      "True\n",
      "9\n",
      "True\n",
      "8\n",
      "True\n",
      "7\n",
      "True\n",
      "6\n",
      "True\n",
      "5\n",
      "True\n",
      "4\n",
      "True\n",
      "3\n",
      "True\n",
      "2\n"
     ]
    }
   ],
   "source": [
    "x = 10\n",
    "while x > 1:\n",
    "    print(True)\n",
    "    print(x)\n",
    "    x = x - 1"
   ]
  },
  {
   "cell_type": "code",
   "execution_count": 28,
   "id": "2c7adaaf",
   "metadata": {},
   "outputs": [
    {
     "name": "stdout",
     "output_type": "stream",
     "text": [
      "True\n",
      "10\n",
      "True\n",
      "9\n",
      "True\n",
      "8\n",
      "True\n",
      "7\n",
      "True\n",
      "6\n",
      "True\n",
      "5\n",
      "True\n",
      "4\n",
      "True\n",
      "3\n",
      "True\n",
      "2\n",
      "True\n",
      "1\n"
     ]
    }
   ],
   "source": [
    "for i in range(10,0,-1):\n",
    "    print(True)\n",
    "    print(i)"
   ]
  },
  {
   "cell_type": "code",
   "execution_count": 29,
   "id": "935a52bd",
   "metadata": {},
   "outputs": [],
   "source": [
    "# Function and Method:"
   ]
  },
  {
   "cell_type": "code",
   "execution_count": 32,
   "id": "7db28138",
   "metadata": {},
   "outputs": [],
   "source": [
    "i = True\n",
    "x = str(i)"
   ]
  },
  {
   "cell_type": "code",
   "execution_count": 33,
   "id": "b0cd1dc0",
   "metadata": {},
   "outputs": [
    {
     "data": {
      "text/plain": [
       "'True'"
      ]
     },
     "execution_count": 33,
     "metadata": {},
     "output_type": "execute_result"
    }
   ],
   "source": [
    "x"
   ]
  },
  {
   "cell_type": "code",
   "execution_count": 34,
   "id": "5eb39726",
   "metadata": {},
   "outputs": [
    {
     "name": "stdout",
     "output_type": "stream",
     "text": [
      "<class 'bool'>\n",
      "<class 'str'>\n"
     ]
    }
   ],
   "source": [
    "print(type(i))\n",
    "print(type(x))"
   ]
  },
  {
   "cell_type": "code",
   "execution_count": 35,
   "id": "e87206a5",
   "metadata": {},
   "outputs": [],
   "source": [
    "def addition(a,b):\n",
    "    s = a + b\n",
    "    return s"
   ]
  },
  {
   "cell_type": "code",
   "execution_count": 36,
   "id": "f9d05e3a",
   "metadata": {},
   "outputs": [
    {
     "name": "stdout",
     "output_type": "stream",
     "text": [
      "8\n"
     ]
    }
   ],
   "source": [
    "n = addition(3,5)\n",
    "print(n)"
   ]
  },
  {
   "cell_type": "code",
   "execution_count": 37,
   "id": "03141c2a",
   "metadata": {},
   "outputs": [],
   "source": [
    "def find_maximum(l):\n",
    "    x = l[0]\n",
    "    for e in l:\n",
    "        if e > x:\n",
    "            x = e\n",
    "    return x"
   ]
  },
  {
   "cell_type": "code",
   "execution_count": 39,
   "id": "4fc44196",
   "metadata": {},
   "outputs": [
    {
     "data": {
      "text/plain": [
       "19"
      ]
     },
     "execution_count": 39,
     "metadata": {},
     "output_type": "execute_result"
    }
   ],
   "source": [
    "find_maximum([3,5,7,3,2,0,19,2,5])"
   ]
  },
  {
   "cell_type": "code",
   "execution_count": 40,
   "id": "37516c8b",
   "metadata": {},
   "outputs": [],
   "source": [
    "# Method\n",
    "l = [1, 10, 'True', False, 'abc']\n",
    "l.append(50)"
   ]
  },
  {
   "cell_type": "code",
   "execution_count": 41,
   "id": "ccfad4fe",
   "metadata": {},
   "outputs": [
    {
     "data": {
      "text/plain": [
       "[1, 10, 'True', False, 'abc', 50]"
      ]
     },
     "execution_count": 41,
     "metadata": {},
     "output_type": "execute_result"
    }
   ],
   "source": [
    "l"
   ]
  },
  {
   "cell_type": "code",
   "execution_count": 42,
   "id": "398fec06",
   "metadata": {},
   "outputs": [
    {
     "data": {
      "text/plain": [
       "50"
      ]
     },
     "execution_count": 42,
     "metadata": {},
     "output_type": "execute_result"
    }
   ],
   "source": [
    "l.pop()"
   ]
  },
  {
   "cell_type": "code",
   "execution_count": 43,
   "id": "e85f97cd",
   "metadata": {},
   "outputs": [
    {
     "data": {
      "text/plain": [
       "[1, 10, 'True', False, 'abc']"
      ]
     },
     "execution_count": 43,
     "metadata": {},
     "output_type": "execute_result"
    }
   ],
   "source": [
    "l"
   ]
  },
  {
   "cell_type": "code",
   "execution_count": 44,
   "id": "aba5cdf4",
   "metadata": {},
   "outputs": [],
   "source": [
    "d = {'name':'Dat', 'gender':'M', 'id':'22559'}"
   ]
  },
  {
   "cell_type": "code",
   "execution_count": 47,
   "id": "a0d8ac9b",
   "metadata": {},
   "outputs": [
    {
     "data": {
      "text/plain": [
       "['Dat', 'M', '22559']"
      ]
     },
     "execution_count": 47,
     "metadata": {},
     "output_type": "execute_result"
    }
   ],
   "source": [
    "list(d.values())"
   ]
  },
  {
   "cell_type": "code",
   "execution_count": 48,
   "id": "0cdea372",
   "metadata": {},
   "outputs": [
    {
     "data": {
      "text/plain": [
       "['name', 'gender', 'id']"
      ]
     },
     "execution_count": 48,
     "metadata": {},
     "output_type": "execute_result"
    }
   ],
   "source": [
    "list(d.keys())"
   ]
  },
  {
   "cell_type": "code",
   "execution_count": 49,
   "id": "a7fa826e",
   "metadata": {},
   "outputs": [
    {
     "data": {
      "text/plain": [
       "'Dat'"
      ]
     },
     "execution_count": 49,
     "metadata": {},
     "output_type": "execute_result"
    }
   ],
   "source": [
    "d['name']"
   ]
  },
  {
   "cell_type": "code",
   "execution_count": 55,
   "id": "d18d3c33",
   "metadata": {},
   "outputs": [],
   "source": [
    "# Write a function to get a key corresponded to the inputted value\n",
    "def get_key(d,val):\n",
    "    k = []\n",
    "    for e in list(d.keys()):\n",
    "        if d[e] == val:\n",
    "            k.append(e)\n",
    "    return k"
   ]
  },
  {
   "cell_type": "code",
   "execution_count": 56,
   "id": "ef28b7d0",
   "metadata": {},
   "outputs": [
    {
     "data": {
      "text/plain": [
       "['name', 'name_1']"
      ]
     },
     "execution_count": 56,
     "metadata": {},
     "output_type": "execute_result"
    }
   ],
   "source": [
    "d_dat = {'name':'Dat', 'gender':'M', 'id':'22559', 'name_1':'Dat'}\n",
    "get_key(d_dat,'Dat')"
   ]
  },
  {
   "cell_type": "code",
   "execution_count": null,
   "id": "3e2936db",
   "metadata": {},
   "outputs": [],
   "source": []
  }
 ],
 "metadata": {
  "kernelspec": {
   "display_name": "Python 3 (ipykernel)",
   "language": "python",
   "name": "python3"
  },
  "language_info": {
   "codemirror_mode": {
    "name": "ipython",
    "version": 3
   },
   "file_extension": ".py",
   "mimetype": "text/x-python",
   "name": "python",
   "nbconvert_exporter": "python",
   "pygments_lexer": "ipython3",
   "version": "3.9.12"
  }
 },
 "nbformat": 4,
 "nbformat_minor": 5
}
